{
 "cells": [
  {
   "cell_type": "code",
   "execution_count": 38,
   "metadata": {
    "collapsed": true
   },
   "outputs": [],
   "source": [
    "import torch\n",
    "import numpy as np\n",
    "import matplotlib.pyplot as plt"
   ]
  },
  {
   "cell_type": "code",
   "execution_count": 39,
   "metadata": {
    "collapsed": true
   },
   "outputs": [],
   "source": [
    "def calc(x):\n",
    "    return 3*x + 2"
   ]
  },
  {
   "cell_type": "code",
   "execution_count": 40,
   "metadata": {},
   "outputs": [],
   "source": [
    "x = torch.tensor([1.], requires_grad=True)\n",
    "y = calc(x)\n",
    "y.backward()\n"
   ]
  },
  {
   "cell_type": "code",
   "execution_count": 41,
   "metadata": {},
   "outputs": [
    {
     "name": "stdout",
     "output_type": "stream",
     "text": [
      "<AddBackward0 object at 0x7fe5faca2a58>\n",
      "tensor([3.])\n"
     ]
    }
   ],
   "source": [
    "print(y.grad_fn)\n",
    "print(x.grad)"
   ]
  },
  {
   "cell_type": "code",
   "execution_count": 42,
   "metadata": {},
   "outputs": [],
   "source": [
    "def calc2(x, w, b):\n",
    "    return w*x + b"
   ]
  },
  {
   "cell_type": "code",
   "execution_count": 43,
   "metadata": {},
   "outputs": [],
   "source": [
    "w = torch.tensor([3.], requires_grad=True)\n",
    "b = torch.tensor([5.], requires_grad=True)\n",
    "x = torch.tensor([7.], requires_grad=True)\n",
    "y2 = calc2(x, w, b)\n",
    "y2.backward()\n",
    "\n"
   ]
  },
  {
   "cell_type": "code",
   "execution_count": 46,
   "metadata": {},
   "outputs": [
    {
     "name": "stdout",
     "output_type": "stream",
     "text": [
      "tensor([0.])\n",
      "tensor([3.])\n",
      "tensor([1.])\n",
      "True\n",
      "False\n",
      "tensor([0.])\n"
     ]
    }
   ],
   "source": [
    "print(w.grad)\n",
    "print(x.grad)\n",
    "print(b.grad)\n",
    "print(w.is_leaf)\n",
    "print(y.is_leaf)\n",
    "print(w.grad.zero_())"
   ]
  },
  {
   "cell_type": "markdown",
   "metadata": {},
   "source": [
    "## 自動微分を用いた線形回帰\n",
    "- 参考: https://rightcode.co.jp/blog/information-technology/pytorch-automatic-differential-linear-regression"
   ]
  },
  {
   "cell_type": "code",
   "execution_count": 62,
   "metadata": {
    "collapsed": true
   },
   "outputs": [],
   "source": [
    "# 教師データ作成\n",
    "N = 200\n",
    "x = np.random.rand(N)*30-15\n",
    "y = 2*x + np.random.randn(N)*5\n",
    " \n",
    "# float32型にしておく\n",
    "x = x.astype(np.float32)\n",
    "y = y.astype(np.float32)"
   ]
  },
  {
   "cell_type": "code",
   "execution_count": 63,
   "metadata": {
    "collapsed": true
   },
   "outputs": [],
   "source": [
    "# 線形モデルの定義\n",
    "def model(x, w, b):\n",
    "    return w*x + b\n",
    "\n",
    "# 損失関数の定義\n",
    "def mse(p, y):\n",
    "    return ((p-y)**2).mean()"
   ]
  },
  {
   "cell_type": "code",
   "execution_count": 64,
   "metadata": {},
   "outputs": [
    {
     "data": {
      "image/png": "[encoded data removed]",
      "text/plain": [
       "<matplotlib.figure.Figure at 0x7fe5f7d1fc18>"
      ]
     },
     "metadata": {},
     "output_type": "display_data"
    }
   ],
   "source": [
    "# データを描画\n",
    "plt.scatter(x, y, marker='.')\n",
    "plt.xlabel('x')\n",
    "plt.ylabel('y')\n",
    "plt.show()"
   ]
  },
  {
   "cell_type": "code",
   "execution_count": 65,
   "metadata": {},
   "outputs": [],
   "source": [
    "x = torch.from_numpy(x)\n",
    "y = torch.from_numpy(y)\n",
    " \n",
    "w = torch.tensor(1.0, requires_grad=True)\n",
    "b = torch.tensor(0.0, requires_grad=True)\n",
    "\n",
    "lr = 1.0e-4"
   ]
  },
  {
   "cell_type": "code",
   "execution_count": 66,
   "metadata": {},
   "outputs": [],
   "source": [
    "losses = []\n",
    "for epoch in range(3000):\n",
    "    # 線形モデルによる値の予測\n",
    "    p = model(x, w, b)\n",
    "    \n",
    "    # 損失値と自動微分\n",
    "    loss = mse(p, y)\n",
    "    loss.backward()\n",
    "    \n",
    "#     from IPython.core.debugger import Pdb; Pdb().set_trace()\n",
    "    \n",
    "    # グラディエントを使って変数`w`と`b`の値を更新する。\n",
    "    with torch.no_grad():\n",
    "        w -= w.grad * lr\n",
    "        b -= b.grad * lr\n",
    "        w.grad.zero_()\n",
    "        b.grad.zero_()\n",
    " \n",
    "    # グラフ描画用\n",
    "    losses.append(loss.item())"
   ]
  },
  {
   "cell_type": "code",
   "execution_count": 69,
   "metadata": {},
   "outputs": [
    {
     "name": "stdout",
     "output_type": "stream",
     "text": [
      "tensor(1.9515, requires_grad=True) tensor(-0.0100, requires_grad=True) tensor(24.3713, grad_fn=<MeanBackward0>)\n"
     ]
    }
   ],
   "source": [
    "print(w, b, loss)"
   ]
  },
  {
   "cell_type": "code",
   "execution_count": 70,
   "metadata": {},
   "outputs": [
    {
     "data": {
      "image/png": "[encoded data removed]",
      "text/plain": [
       "<matplotlib.figure.Figure at 0x7fe5faca2a58>"
      ]
     },
     "metadata": {},
     "output_type": "display_data"
    }
   ],
   "source": [
    "def draw_linear_regression(x, y, p):\n",
    "    # PyTorchのTensorからNumpyに変換\n",
    "    x = x.numpy()\n",
    "    y = y.numpy()\n",
    "    p = p.detach().numpy()\n",
    "    \n",
    "    plt.scatter(x, y, marker='.')\n",
    "    plt.scatter(x, p, marker='.')\n",
    "    plt.xlabel('x')\n",
    "    plt.ylabel('y')\n",
    "    plt.show()\n",
    "    \n",
    "draw_linear_regression(x, y, p)"
   ]
  },
  {
   "cell_type": "code",
   "execution_count": 75,
   "metadata": {},
   "outputs": [
    {
     "data": {
      "text/plain": [
       "array([-27.630611  ,  12.327526  ,   0.8932026 , -20.494904  ,\n",
       "         8.4705515 ,  14.325544  ,   3.7475314 , -22.545256  ,\n",
       "        11.614646  , -25.141386  ,   0.1200266 ,   2.6759028 ,\n",
       "         2.0911174 ,  11.635506  ,   4.5264673 ,  -3.250613  ,\n",
       "        19.605734  , -28.19927   , -20.911148  ,  -8.204572  ,\n",
       "        -7.8615174 ,  13.813486  , -11.147876  , -15.588211  ,\n",
       "       -11.217862  ,  14.379971  , -16.00513   , -15.059068  ,\n",
       "        22.13193   ,   0.4505977 , -19.563408  ,  15.798394  ,\n",
       "        19.636303  ,  21.746117  ,  18.564983  ,  -5.3252006 ,\n",
       "        15.974223  , -23.141863  , -13.592322  ,  -2.3305163 ,\n",
       "         4.405485  ,  -7.2222624 ,   6.1836386 , -20.179667  ,\n",
       "       -28.86718   ,  10.933467  ,   3.6136174 ,  -3.692729  ,\n",
       "       -18.863844  ,  -5.5628524 ,   0.11214086,  -7.1348157 ,\n",
       "       -22.543327  ,  10.945219  , -25.648397  ,   0.5499103 ,\n",
       "         2.5719953 , -19.764158  ,  -6.446794  ,  -0.4751637 ,\n",
       "       -15.813509  ,  19.860878  ,  16.024063  ,  25.391943  ,\n",
       "        -5.8048825 , -20.714794  ,  15.974728  ,  19.37335   ,\n",
       "        10.894575  ,  22.154078  ,  26.294466  ,  19.272873  ,\n",
       "        -4.3284225 , -11.279241  , -28.939812  ,  16.859968  ,\n",
       "       -28.664196  , -25.388418  ,  18.031082  ,  23.479511  ,\n",
       "        -4.250555  ,   4.479076  ,   8.377988  , -26.125807  ,\n",
       "        16.591295  , -22.950678  , -16.333868  , -16.795898  ,\n",
       "        12.631576  ,  27.590374  , -17.38713   ,   5.0438013 ,\n",
       "        -4.8084383 ,  -7.13549   , -20.281013  ,   5.228253  ,\n",
       "         5.7632074 ,  10.179421  ,  -7.054295  , -13.906668  ,\n",
       "        -0.7108104 , -23.807226  ,  26.077755  ,  19.384321  ,\n",
       "       -14.876018  ,   9.232442  , -26.367685  , -24.489311  ,\n",
       "        27.75994   ,   0.7457812 ,  22.005571  ,  16.2208    ,\n",
       "       -14.354298  ,  10.035155  ,   5.4921794 , -23.163452  ,\n",
       "         2.356553  , -12.750763  , -20.689009  , -18.92641   ,\n",
       "        13.123441  , -14.149377  ,  13.326629  ,  26.91178   ,\n",
       "         7.279542  , -24.573208  ,  -1.0741509 ,  -0.10057104,\n",
       "        25.358135  , -17.720623  , -17.888031  , -16.12894   ,\n",
       "        15.440836  ,  -5.888516  ,   1.2758645 ,  13.281052  ,\n",
       "       -21.553295  , -20.26263   ,   9.248046  ,   7.922855  ,\n",
       "         0.6957057 ,  27.118076  , -14.731093  , -21.03925   ,\n",
       "       -16.691013  ,   0.52993333,   1.2724011 ,  12.408063  ,\n",
       "       -20.31805   ,  16.853289  ,   3.8039157 ,   1.524946  ,\n",
       "       -18.580673  , -11.629878  , -23.609953  , -10.214144  ,\n",
       "        25.593525  , -16.447311  , -18.542307  ,  25.662815  ,\n",
       "         3.4466455 , -28.765575  ,  19.844229  ,  14.627227  ,\n",
       "       -25.24669   ,   4.9562855 ,   1.4375327 ,   3.1872025 ,\n",
       "        -2.543386  , -13.180543  ,   6.3288555 , -26.546871  ,\n",
       "        -8.128554  ,  15.408009  , -10.589018  ,  -5.046763  ,\n",
       "        -7.383046  , -20.92373   , -19.895943  , -23.95227   ,\n",
       "       -23.816381  ,  28.037745  ,  -1.0477071 , -26.379887  ,\n",
       "       -11.178503  ,   2.683238  ,  15.3309555 ,   7.2090287 ,\n",
       "        -8.625512  ,  25.181921  ,  23.130743  ,  29.032745  ,\n",
       "       -26.008286  ,   9.616023  , -29.00695   ,   9.082195  ,\n",
       "       -18.548073  , -15.252875  ,  28.257534  ,  13.372736  ],\n",
       "      dtype=float32)"
      ]
     },
     "execution_count": 75,
     "metadata": {},
     "output_type": "execute_result"
    }
   ],
   "source": [
    "# p.numpy()\n",
    "p.detach().numpy()"
   ]
  },
  {
   "cell_type": "code",
   "execution_count": null,
   "metadata": {},
   "outputs": [],
   "source": []
  },
  {
   "cell_type": "code",
   "execution_count": null,
   "metadata": {
    "collapsed": true
   },
   "outputs": [],
   "source": []
  }
 ],
 "metadata": {
  "kernelspec": {
   "display_name": "Python 3",
   "language": "python",
   "name": "python3"
  },
  "language_info": {
   "codemirror_mode": {
    "name": "ipython",
    "version": 3
   },
   "file_extension": ".py",
   "mimetype": "text/x-python",
   "name": "python",
   "nbconvert_exporter": "python",
   "pygments_lexer": "ipython3",
   "version": "3.6.3"
  }
 },
 "nbformat": 4,
 "nbformat_minor": 2
}
