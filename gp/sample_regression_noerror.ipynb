{
 "cells": [
  {
   "cell_type": "code",
   "execution_count": 2,
   "metadata": {},
   "outputs": [
    {
     "name": "stdout",
     "output_type": "stream",
     "text": [
      "The autoreload extension is already loaded. To reload it, use:\n",
      "  %reload_ext autoreload\n"
     ]
    }
   ],
   "source": [
    "import math\n",
    "import torch\n",
    "import gpytorch\n",
    "from matplotlib import pyplot as plt\n",
    "\n",
    "%matplotlib inline\n",
    "%load_ext autoreload\n",
    "%autoreload 2"
   ]
  },
  {
   "cell_type": "code",
   "execution_count": 3,
   "metadata": {},
   "outputs": [],
   "source": [
    "# Set up training data\n",
    "\n",
    "# Training data is 100 points in [0,1] inclusive regularly spaced\n",
    "train_x = torch.linspace(0, 1, 100)\n",
    "# True function is sin(2*pi*x) with Gaussian noise\n",
    "train_y = torch.sin(train_x * (2 * math.pi))"
   ]
  },
  {
   "cell_type": "code",
   "execution_count": 4,
   "metadata": {},
   "outputs": [],
   "source": [
    "# We will use the simplest form of GP model, exact inference\n",
    "class ExactGPModel(gpytorch.models.ExactGP):\n",
    "    def __init__(self, train_x, train_y, likelihood):\n",
    "        super(ExactGPModel, self).__init__(train_x, train_y, likelihood)\n",
    "        self.mean_module = gpytorch.means.ConstantMean()\n",
    "        self.covar_module = gpytorch.kernels.ScaleKernel(gpytorch.kernels.RBFKernel())\n",
    "\n",
    "    def forward(self, x):\n",
    "        mean_x = self.mean_module(x)\n",
    "        covar_x = self.covar_module(x)\n",
    "        return gpytorch.distributions.MultivariateNormal(mean_x, covar_x)"
   ]
  },
  {
   "cell_type": "code",
   "execution_count": 5,
   "metadata": {},
   "outputs": [],
   "source": [
    "# initialize likelihood and model\n",
    "likelihood = gpytorch.likelihoods.GaussianLikelihood()\n",
    "model = ExactGPModel(train_x, train_y, likelihood)"
   ]
  },
  {
   "cell_type": "code",
   "execution_count": 6,
   "metadata": {},
   "outputs": [
    {
     "name": "stdout",
     "output_type": "stream",
     "text": [
      "Iter 1/50 - Loss: 0.911   lengthscale: 0.693   noise: 0.693\n",
      "Iter 2/50 - Loss: 0.878   lengthscale: 0.644   noise: 0.644\n",
      "Iter 3/50 - Loss: 0.842   lengthscale: 0.598   noise: 0.598\n",
      "Iter 4/50 - Loss: 0.801   lengthscale: 0.555   noise: 0.554\n",
      "Iter 5/50 - Loss: 0.756   lengthscale: 0.514   noise: 0.513\n",
      "Iter 6/50 - Loss: 0.705   lengthscale: 0.475   noise: 0.474\n",
      "Iter 7/50 - Loss: 0.651   lengthscale: 0.439   noise: 0.437\n",
      "Iter 8/50 - Loss: 0.595   lengthscale: 0.405   noise: 0.402\n",
      "Iter 9/50 - Loss: 0.541   lengthscale: 0.372   noise: 0.369\n",
      "Iter 10/50 - Loss: 0.491   lengthscale: 0.342   noise: 0.339\n",
      "Iter 11/50 - Loss: 0.444   lengthscale: 0.315   noise: 0.310\n",
      "Iter 12/50 - Loss: 0.401   lengthscale: 0.292   noise: 0.284\n",
      "Iter 13/50 - Loss: 0.359   lengthscale: 0.272   noise: 0.259\n",
      "Iter 14/50 - Loss: 0.318   lengthscale: 0.256   noise: 0.236\n",
      "Iter 15/50 - Loss: 0.276   lengthscale: 0.243   noise: 0.215\n",
      "Iter 16/50 - Loss: 0.234   lengthscale: 0.233   noise: 0.195\n",
      "Iter 17/50 - Loss: 0.191   lengthscale: 0.225   noise: 0.178\n",
      "Iter 18/50 - Loss: 0.147   lengthscale: 0.220   noise: 0.161\n",
      "Iter 19/50 - Loss: 0.102   lengthscale: 0.216   noise: 0.146\n",
      "Iter 20/50 - Loss: 0.056   lengthscale: 0.215   noise: 0.132\n",
      "Iter 21/50 - Loss: 0.009   lengthscale: 0.215   noise: 0.120\n",
      "Iter 22/50 - Loss: -0.039   lengthscale: 0.216   noise: 0.108\n",
      "Iter 23/50 - Loss: -0.088   lengthscale: 0.220   noise: 0.098\n",
      "Iter 24/50 - Loss: -0.137   lengthscale: 0.224   noise: 0.089\n",
      "Iter 25/50 - Loss: -0.187   lengthscale: 0.230   noise: 0.080\n",
      "Iter 26/50 - Loss: -0.238   lengthscale: 0.236   noise: 0.072\n",
      "Iter 27/50 - Loss: -0.288   lengthscale: 0.244   noise: 0.065\n",
      "Iter 28/50 - Loss: -0.339   lengthscale: 0.252   noise: 0.059\n",
      "Iter 29/50 - Loss: -0.390   lengthscale: 0.261   noise: 0.053\n",
      "Iter 30/50 - Loss: -0.441   lengthscale: 0.271   noise: 0.048\n",
      "Iter 31/50 - Loss: -0.491   lengthscale: 0.281   noise: 0.043\n",
      "Iter 32/50 - Loss: -0.540   lengthscale: 0.290   noise: 0.039\n",
      "Iter 33/50 - Loss: -0.590   lengthscale: 0.299   noise: 0.035\n",
      "Iter 34/50 - Loss: -0.638   lengthscale: 0.307   noise: 0.031\n",
      "Iter 35/50 - Loss: -0.687   lengthscale: 0.314   noise: 0.028\n",
      "Iter 36/50 - Loss: -0.736   lengthscale: 0.318   noise: 0.025\n",
      "Iter 37/50 - Loss: -0.785   lengthscale: 0.321   noise: 0.023\n",
      "Iter 38/50 - Loss: -0.835   lengthscale: 0.321   noise: 0.020\n",
      "Iter 39/50 - Loss: -0.885   lengthscale: 0.319   noise: 0.018\n",
      "Iter 40/50 - Loss: -0.936   lengthscale: 0.315   noise: 0.017\n",
      "Iter 41/50 - Loss: -0.986   lengthscale: 0.311   noise: 0.015\n",
      "Iter 42/50 - Loss: -1.036   lengthscale: 0.306   noise: 0.013\n",
      "Iter 43/50 - Loss: -1.086   lengthscale: 0.301   noise: 0.012\n",
      "Iter 44/50 - Loss: -1.136   lengthscale: 0.296   noise: 0.011\n",
      "Iter 45/50 - Loss: -1.185   lengthscale: 0.293   noise: 0.010\n",
      "Iter 46/50 - Loss: -1.234   lengthscale: 0.290   noise: 0.009\n",
      "Iter 47/50 - Loss: -1.283   lengthscale: 0.288   noise: 0.008\n",
      "Iter 48/50 - Loss: -1.332   lengthscale: 0.288   noise: 0.007\n",
      "Iter 49/50 - Loss: -1.381   lengthscale: 0.289   noise: 0.006\n",
      "Iter 50/50 - Loss: -1.430   lengthscale: 0.291   noise: 0.006\n"
     ]
    }
   ],
   "source": [
    "# this is for running the notebook in our testing framework\n",
    "import os\n",
    "smoke_test = ('CI' in os.environ)\n",
    "training_iter = 2 if smoke_test else 50\n",
    "\n",
    "\n",
    "# Find optimal model hyperparameters\n",
    "model.train()\n",
    "likelihood.train()\n",
    "\n",
    "# Use the adam optimizer\n",
    "optimizer = torch.optim.Adam(model.parameters(), lr=0.1)  # Includes GaussianLikelihood parameters\n",
    "\n",
    "# \"Loss\" for GPs - the marginal log likelihood\n",
    "mll = gpytorch.mlls.ExactMarginalLogLikelihood(likelihood, model)\n",
    "\n",
    "for i in range(training_iter):\n",
    "    # Zero gradients from previous iteration\n",
    "    optimizer.zero_grad()\n",
    "    # Output from model\n",
    "    output = model(train_x)\n",
    "    # Calc loss and backprop gradients\n",
    "    loss = -mll(output, train_y)\n",
    "    loss.backward()\n",
    "    print('Iter %d/%d - Loss: %.3f   lengthscale: %.3f   noise: %.3f' % (\n",
    "        i + 1, training_iter, loss.item(),\n",
    "        model.covar_module.base_kernel.lengthscale.item(),\n",
    "        model.likelihood.noise.item()\n",
    "    ))\n",
    "    optimizer.step()"
   ]
  },
  {
   "cell_type": "code",
   "execution_count": 10,
   "metadata": {},
   "outputs": [],
   "source": [
    "# Get into evaluation (predictive posterior) mode\n",
    "model.eval()\n",
    "likelihood.eval()\n",
    "\n",
    "# Test points are regularly spaced along [0,1]\n",
    "# Make predictions by feeding model through likelihood\n",
    "with torch.no_grad(), gpytorch.settings.fast_pred_var():\n",
    "    test_x = torch.linspace(0, 1, 51)\n",
    "    f_pred = model(test_x)\n",
    "    observed_pred = likelihood(model(test_x))"
   ]
  },
  {
   "cell_type": "code",
   "execution_count": 11,
   "metadata": {},
   "outputs": [
    {
     "data": {
      "image/png": "[encoded data removed]",
      "text/plain": [
       "<matplotlib.figure.Figure at 0x7fdef85fc710>"
      ]
     },
     "metadata": {},
     "output_type": "display_data"
    }
   ],
   "source": [
    "with torch.no_grad():\n",
    "    # Initialize plot\n",
    "    f, ax = plt.subplots(1, 1, figsize=(10, 8))\n",
    "\n",
    "    # Get upper and lower confidence bounds\n",
    "#     lower, upper = observed_pred.confidence_region()\n",
    "    lower, upper = f_pred.confidence_region()\n",
    "    # Plot training data as black stars\n",
    "    ax.plot(train_x.numpy(), train_y.numpy(), 'k*')\n",
    "    # Plot predictive means as blue line\n",
    "    ax.plot(test_x.numpy(), observed_pred.mean.numpy(), 'b')\n",
    "    # Shade between the lower and upper confidence bounds\n",
    "    ax.fill_between(test_x.numpy(), lower.numpy(), upper.numpy(), alpha=0.5)\n",
    "    ax.set_ylim([-3, 3])\n",
    "    ax.legend(['Observed Data', 'Mean', 'Confidence'])"
   ]
  },
  {
   "cell_type": "code",
   "execution_count": 12,
   "metadata": {},
   "outputs": [
    {
     "data": {
      "text/plain": [
       "(tensor([-0.0642,  0.0755,  0.2068,  0.3288,  0.4422,  0.5474,  0.6440,  0.7307,\n",
       "          0.8059,  0.8681,  0.9159,  0.9482,  0.9649,  0.9654,  0.9500,  0.9189,\n",
       "          0.8728,  0.8124,  0.7386,  0.6526,  0.5558,  0.4497,  0.3360,  0.2164,\n",
       "          0.0930, -0.0324, -0.1576, -0.2810, -0.4004, -0.5142, -0.6204, -0.7174,\n",
       "         -0.8038, -0.8780, -0.9387, -0.9851, -1.0162, -1.0316, -1.0311, -1.0150,\n",
       "         -0.9836, -0.9373, -0.8770, -0.8036, -0.7179, -0.6215, -0.5166, -0.4061,\n",
       "         -0.2946, -0.1864, -0.0849]),\n",
       " tensor([ 0.0849,  0.1865,  0.2946,  0.4061,  0.5166,  0.6216,  0.7179,  0.8036,\n",
       "          0.8771,  0.9373,  0.9836,  1.0151,  1.0312,  1.0316,  1.0161,  0.9851,\n",
       "          0.9388,  0.8780,  0.8038,  0.7175,  0.6204,  0.5142,  0.4004,  0.2810,\n",
       "          0.1576,  0.0324, -0.0930, -0.2164, -0.3360, -0.4497, -0.5558, -0.6527,\n",
       "         -0.7386, -0.8124, -0.8728, -0.9189, -0.9500, -0.9654, -0.9650, -0.9484,\n",
       "         -0.9159, -0.8681, -0.8059, -0.7307, -0.6441, -0.5475, -0.4422, -0.3289,\n",
       "         -0.2068, -0.0756,  0.0641]))"
      ]
     },
     "execution_count": 12,
     "metadata": {},
     "output_type": "execute_result"
    }
   ],
   "source": [
    "f_pred.confidence_region()"
   ]
  },
  {
   "cell_type": "code",
   "execution_count": 20,
   "metadata": {},
   "outputs": [
    {
     "name": "stdout",
     "output_type": "stream",
     "text": [
      "('noise_covar.raw_noise', Parameter containing:\n",
      "tensor([-5.2793], requires_grad=True))\n"
     ]
    }
   ],
   "source": [
    "for i in likelihood.named_parameters():\n",
    "    print(i)"
   ]
  },
  {
   "cell_type": "code",
   "execution_count": null,
   "metadata": {},
   "outputs": [],
   "source": []
  }
 ],
 "metadata": {
  "kernelspec": {
   "display_name": "Python 3",
   "language": "python",
   "name": "python3"
  },
  "language_info": {
   "codemirror_mode": {
    "name": "ipython",
    "version": 3
   },
   "file_extension": ".py",
   "mimetype": "text/x-python",
   "name": "python",
   "nbconvert_exporter": "python",
   "pygments_lexer": "ipython3",
   "version": "3.6.3"
  }
 },
 "nbformat": 4,
 "nbformat_minor": 2
}
