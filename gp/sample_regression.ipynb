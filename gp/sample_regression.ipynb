{
 "cells": [
  {
   "cell_type": "code",
   "execution_count": 1,
   "metadata": {},
   "outputs": [],
   "source": [
    "import math\n",
    "import torch\n",
    "import gpytorch\n",
    "from matplotlib import pyplot as plt\n",
    "\n",
    "%matplotlib inline\n",
    "%load_ext autoreload\n",
    "%autoreload 2"
   ]
  },
  {
   "cell_type": "markdown",
   "metadata": {},
   "source": [
    "# GPyTorch Regression Tutorial\n",
    "\n",
    "### 目標\n",
    "以下の関係の回帰をガウス過程により求める。\n",
    "\n",
    "$$\n",
    "    y = \\sin (2\\pi x) + \\epsilon \\\\\n",
    "    \\epsilon \\sim N(0, 0.04)\n",
    "$$\n"
   ]
  },
  {
   "cell_type": "code",
   "execution_count": 3,
   "metadata": {},
   "outputs": [],
   "source": [
    "# Set up training data\n",
    "\n",
    "# Training data is 100 points in [0,1] inclusive regularly spaced\n",
    "train_x = torch.linspace(0, 1, 100)\n",
    "# True function is sin(2*pi*x) with Gaussian noise\n",
    "train_y = torch.sin(train_x * (2 * math.pi)) + torch.randn(train_x.size()) * math.sqrt(0.04)"
   ]
  },
  {
   "cell_type": "code",
   "execution_count": 5,
   "metadata": {},
   "outputs": [
    {
     "data": {
      "text/plain": [
       "tensor([ 0.0705,  0.1081, -0.0430,  0.3501, -0.0486,  0.4636,  0.2937,  0.7763,\n",
       "         0.3900,  0.6616,  0.5587,  0.4859,  1.4225,  0.6185,  0.6092,  1.0674,\n",
       "         0.9270,  0.8644,  0.9071,  1.2243,  0.9630,  0.6564,  1.0641,  0.9078,\n",
       "         1.0319,  0.8558,  1.1844,  1.1217,  0.6805,  0.7326,  0.7689,  0.7705,\n",
       "         1.0185,  0.8761,  0.9625,  0.9378,  0.6320,  0.7998,  0.5644,  0.8580,\n",
       "         0.7294,  0.8245,  0.3987,  0.4434,  0.2981,  0.1346,  0.3104,  0.5246,\n",
       "         0.1155, -0.1124,  0.3271,  0.0832,  0.1814, -0.0345, -0.2520, -0.2876,\n",
       "        -0.1046, -0.6284, -0.5626, -0.2693, -0.3739, -0.4968, -0.8037, -0.4582,\n",
       "        -0.9583, -0.4358, -1.0706, -0.5334, -0.9736, -0.8949, -1.1209, -0.9255,\n",
       "        -0.6172, -1.0238, -1.1338, -0.6943, -1.2110, -1.1222, -1.1728, -1.0273,\n",
       "        -0.6903, -1.0163, -0.8481, -0.7255, -0.7574, -0.6063, -0.9153, -0.7158,\n",
       "        -0.6981, -0.7579, -0.8201, -0.4694, -0.3233, -0.2499, -0.6351, -0.5479,\n",
       "        -0.3146, -0.2093, -0.0448,  0.0547])"
      ]
     },
     "execution_count": 5,
     "metadata": {},
     "output_type": "execute_result"
    }
   ],
   "source": [
    "tlrain_x\n",
    "train_y"
   ]
  },
  {
   "cell_type": "code",
   "execution_count": 6,
   "metadata": {},
   "outputs": [],
   "source": [
    "# We will use the simplest form of GP model, exact inference\n",
    "class ExactGPModel(gpytorch.models.ExactGP):\n",
    "    def __init__(self, train_x, train_y, likelihood):\n",
    "        super(ExactGPModel, self).__init__(train_x, train_y, likelihood)\n",
    "        self.mean_module = gpytorch.means.ConstantMean()\n",
    "        self.covar_module = gpytorch.kernels.ScaleKernel(gpytorch.kernels.RBFKernel())\n",
    "\n",
    "    def forward(self, x):\n",
    "        mean_x = self.mean_module(x)\n",
    "        covar_x = self.covar_module(x)\n",
    "        return gpytorch.distributions.MultivariateNormal(mean_x, covar_x)"
   ]
  },
  {
   "cell_type": "code",
   "execution_count": 7,
   "metadata": {},
   "outputs": [],
   "source": [
    "# initialize likelihood and model\n",
    "likelihood = gpytorch.likelihoods.GaussianLikelihood()\n",
    "model = ExactGPModel(train_x, train_y, likelihood)"
   ]
  },
  {
   "cell_type": "code",
   "execution_count": 12,
   "metadata": {},
   "outputs": [
    {
     "data": {
      "text/plain": [
       "<generator object Module.named_parameters at 0x7fa7007fad58>"
      ]
     },
     "execution_count": 12,
     "metadata": {},
     "output_type": "execute_result"
    }
   ],
   "source": [
    "model.named_parameters()\n"
   ]
  },
  {
   "cell_type": "code",
   "execution_count": 14,
   "metadata": {},
   "outputs": [
    {
     "name": "stdout",
     "output_type": "stream",
     "text": [
      "Iter 1/50 - Loss: -0.082   lengthscale: 0.256   noise: 0.031\n",
      "Iter 2/50 - Loss: -0.089   lengthscale: 0.280   noise: 0.034\n",
      "Iter 3/50 - Loss: -0.089   lengthscale: 0.292   noise: 0.037\n",
      "Iter 4/50 - Loss: -0.088   lengthscale: 0.290   noise: 0.040\n",
      "Iter 5/50 - Loss: -0.087   lengthscale: 0.282   noise: 0.041\n",
      "Iter 6/50 - Loss: -0.087   lengthscale: 0.274   noise: 0.041\n",
      "Iter 7/50 - Loss: -0.088   lengthscale: 0.268   noise: 0.040\n",
      "Iter 8/50 - Loss: -0.089   lengthscale: 0.266   noise: 0.039\n",
      "Iter 9/50 - Loss: -0.090   lengthscale: 0.269   noise: 0.037\n",
      "Iter 10/50 - Loss: -0.090   lengthscale: 0.273   noise: 0.036\n",
      "Iter 11/50 - Loss: -0.090   lengthscale: 0.278   noise: 0.035\n",
      "Iter 12/50 - Loss: -0.089   lengthscale: 0.281   noise: 0.035\n",
      "Iter 13/50 - Loss: -0.089   lengthscale: 0.281   noise: 0.034\n",
      "Iter 14/50 - Loss: -0.089   lengthscale: 0.279   noise: 0.035\n",
      "Iter 15/50 - Loss: -0.090   lengthscale: 0.275   noise: 0.035\n",
      "Iter 16/50 - Loss: -0.090   lengthscale: 0.271   noise: 0.036\n",
      "Iter 17/50 - Loss: -0.090   lengthscale: 0.268   noise: 0.037\n",
      "Iter 18/50 - Loss: -0.090   lengthscale: 0.267   noise: 0.038\n",
      "Iter 19/50 - Loss: -0.090   lengthscale: 0.269   noise: 0.038\n",
      "Iter 20/50 - Loss: -0.090   lengthscale: 0.272   noise: 0.039\n",
      "Iter 21/50 - Loss: -0.090   lengthscale: 0.275   noise: 0.039\n",
      "Iter 22/50 - Loss: -0.090   lengthscale: 0.277   noise: 0.038\n",
      "Iter 23/50 - Loss: -0.090   lengthscale: 0.278   noise: 0.038\n",
      "Iter 24/50 - Loss: -0.090   lengthscale: 0.276   noise: 0.037\n",
      "Iter 25/50 - Loss: -0.090   lengthscale: 0.274   noise: 0.037\n",
      "Iter 26/50 - Loss: -0.090   lengthscale: 0.271   noise: 0.036\n",
      "Iter 27/50 - Loss: -0.090   lengthscale: 0.268   noise: 0.036\n",
      "Iter 28/50 - Loss: -0.090   lengthscale: 0.267   noise: 0.036\n",
      "Iter 29/50 - Loss: -0.090   lengthscale: 0.267   noise: 0.036\n",
      "Iter 30/50 - Loss: -0.090   lengthscale: 0.269   noise: 0.036\n",
      "Iter 31/50 - Loss: -0.090   lengthscale: 0.271   noise: 0.036\n",
      "Iter 32/50 - Loss: -0.090   lengthscale: 0.273   noise: 0.037\n",
      "Iter 33/50 - Loss: -0.090   lengthscale: 0.274   noise: 0.037\n",
      "Iter 34/50 - Loss: -0.090   lengthscale: 0.274   noise: 0.037\n",
      "Iter 35/50 - Loss: -0.090   lengthscale: 0.272   noise: 0.038\n",
      "Iter 36/50 - Loss: -0.090   lengthscale: 0.271   noise: 0.038\n",
      "Iter 37/50 - Loss: -0.090   lengthscale: 0.269   noise: 0.038\n",
      "Iter 38/50 - Loss: -0.090   lengthscale: 0.269   noise: 0.037\n",
      "Iter 39/50 - Loss: -0.090   lengthscale: 0.269   noise: 0.037\n",
      "Iter 40/50 - Loss: -0.090   lengthscale: 0.270   noise: 0.037\n",
      "Iter 41/50 - Loss: -0.090   lengthscale: 0.272   noise: 0.036\n",
      "Iter 42/50 - Loss: -0.090   lengthscale: 0.272   noise: 0.036\n",
      "Iter 43/50 - Loss: -0.090   lengthscale: 0.273   noise: 0.036\n",
      "Iter 44/50 - Loss: -0.090   lengthscale: 0.272   noise: 0.036\n",
      "Iter 45/50 - Loss: -0.090   lengthscale: 0.271   noise: 0.037\n",
      "Iter 46/50 - Loss: -0.090   lengthscale: 0.271   noise: 0.037\n",
      "Iter 47/50 - Loss: -0.090   lengthscale: 0.270   noise: 0.037\n",
      "Iter 48/50 - Loss: -0.090   lengthscale: 0.271   noise: 0.037\n",
      "Iter 49/50 - Loss: -0.090   lengthscale: 0.271   noise: 0.037\n",
      "Iter 50/50 - Loss: -0.090   lengthscale: 0.272   noise: 0.037\n"
     ]
    }
   ],
   "source": [
    "# this is for running the notebook in our testing framework\n",
    "import os\n",
    "smoke_test = ('CI' in os.environ)\n",
    "training_iter = 2 if smoke_test else 50\n",
    "\n",
    "\n",
    "# Find optimal model hyperparameters\n",
    "model.train()\n",
    "likelihood.train()\n",
    "\n",
    "# Use the adam optimizer\n",
    "optimizer = torch.optim.Adam(model.parameters(), lr=0.1)  # Includes GaussianLikelihood parameters\n",
    "\n",
    "# \"Loss\" for GPs - the marginal log likelihood\n",
    "mll = gpytorch.mlls.ExactMarginalLogLikelihood(likelihood, model)\n",
    "\n",
    "for i in range(training_iter):\n",
    "    # Zero gradients from previous iteration\n",
    "    optimizer.zero_grad()\n",
    "    # Output from model\n",
    "    output = model(train_x)\n",
    "    # Calc loss and backprop gradients\n",
    "    loss = -mll(output, train_y)\n",
    "    loss.backward()\n",
    "    print('Iter %d/%d - Loss: %.3f   lengthscale: %.3f   noise: %.3f' % (\n",
    "        i + 1, training_iter, loss.item(),\n",
    "        model.covar_module.base_kernel.lengthscale.item(),\n",
    "        model.likelihood.noise.item()\n",
    "    ))\n",
    "    optimizer.step()"
   ]
  },
  {
   "cell_type": "code",
   "execution_count": 16,
   "metadata": {},
   "outputs": [],
   "source": [
    "# Get into evaluation (predictive posterior) mode\n",
    "model.eval()\n",
    "likelihood.eval()\n",
    "\n",
    "# Test points are regularly spaced along [0,1]\n",
    "# Make predictions by feeding model through likelihood\n",
    "with torch.no_grad(), gpytorch.settings.fast_pred_var():\n",
    "    test_x = torch.linspace(0, 1, 51)\n",
    "    observed_pred = likelihood(model(test_x))"
   ]
  },
  {
   "cell_type": "code",
   "execution_count": 20,
   "metadata": {},
   "outputs": [
    {
     "data": {
      "text/plain": [
       "MultivariateNormal(loc: torch.Size([51]))"
      ]
     },
     "execution_count": 20,
     "metadata": {},
     "output_type": "execute_result"
    }
   ],
   "source": [
    "observed_pred"
   ]
  },
  {
   "cell_type": "code",
   "execution_count": 19,
   "metadata": {},
   "outputs": [
    {
     "data": {
      "image/png": "[encoded data removed]",
      "text/plain": [
       "<matplotlib.figure.Figure at 0x7fa700825710>"
      ]
     },
     "metadata": {},
     "output_type": "display_data"
    }
   ],
   "source": [
    "with torch.no_grad():\n",
    "    # Initialize plot\n",
    "    f, ax = plt.subplots(1, 1, figsize=(4, 3))\n",
    "\n",
    "    # Get upper and lower confidence bounds\n",
    "    lower, upper = observed_pred.confidence_region()\n",
    "    # Plot training data as black stars\n",
    "    ax.plot(train_x.numpy(), train_y.numpy(), 'k*')\n",
    "    # Plot predictive means as blue line\n",
    "    ax.plot(test_x.numpy(), observed_pred.mean.numpy(), 'b')\n",
    "    # Shade between the lower and upper confidence bounds\n",
    "    ax.fill_between(test_x.numpy(), lower.numpy(), upper.numpy(), alpha=0.5)\n",
    "    ax.set_ylim([-3, 3])\n",
    "    ax.legend(['Observed Data', 'Mean', 'Confidence'])"
   ]
  },
  {
   "cell_type": "code",
   "execution_count": 22,
   "metadata": {},
   "outputs": [
    {
     "data": {
      "text/plain": [
       "tensor([ 0.0654,  0.1846,  0.3013,  0.4138,  0.5200,  0.6185,  0.7075,  0.7859,\n",
       "         0.8526,  0.9067,  0.9477,  0.9750,  0.9886,  0.9885,  0.9749,  0.9481,\n",
       "         0.9085,  0.8568,  0.7937,  0.7199,  0.6363,  0.5439,  0.4437,  0.3370,\n",
       "         0.2251,  0.1093, -0.0088, -0.1275, -0.2452, -0.3600, -0.4701, -0.5735,\n",
       "        -0.6685, -0.7533, -0.8263, -0.8860, -0.9312, -0.9610, -0.9747, -0.9720,\n",
       "        -0.9529, -0.9179, -0.8679, -0.8038, -0.7271, -0.6396, -0.5431, -0.4398,\n",
       "        -0.3317, -0.2213, -0.1106])"
      ]
     },
     "execution_count": 22,
     "metadata": {},
     "output_type": "execute_result"
    }
   ],
   "source": [
    "observed_pred.mean"
   ]
  },
  {
   "cell_type": "code",
   "execution_count": 24,
   "metadata": {},
   "outputs": [],
   "source": [
    "f_pred = model(test_x)"
   ]
  },
  {
   "cell_type": "code",
   "execution_count": 27,
   "metadata": {},
   "outputs": [
    {
     "data": {
      "text/plain": [
       "(tensor([-0.1088,  0.0447,  0.1859,  0.3133,  0.4268,  0.5277,  0.6171,  0.6956,\n",
       "          0.7626,  0.8177,  0.8599,  0.8886,  0.9034,  0.9042,  0.8910,  0.8644,\n",
       "          0.8248,  0.7731,  0.7099,  0.6362,  0.5527,  0.4605,  0.3606,  0.2541,\n",
       "          0.1423,  0.0266, -0.0916, -0.2104, -0.3283, -0.4433, -0.5536, -0.6572,\n",
       "         -0.7523, -0.8371, -0.9100, -0.9698, -1.0152, -1.0454, -1.0599, -1.0583,\n",
       "         -1.0406, -1.0070, -0.9578, -0.8942, -0.8175, -0.7304, -0.6364, -0.5403,\n",
       "         -0.4471, -0.3611, -0.2848], grad_fn=<SubBackward0>),\n",
       " tensor([ 0.2397,  0.3244,  0.4167,  0.5143,  0.6133,  0.7093,  0.7980,  0.8763,\n",
       "          0.9426,  0.9958,  1.0354,  1.0614,  1.0739,  1.0729,  1.0588,  1.0318,\n",
       "          0.9923,  0.9406,  0.8775,  0.8036,  0.7198,  0.6272,  0.5268,  0.4199,\n",
       "          0.3078,  0.1920,  0.0740, -0.0446, -0.1621, -0.2767, -0.3865, -0.4898,\n",
       "         -0.5848, -0.6696, -0.7426, -0.8023, -0.8473, -0.8766, -0.8895, -0.8856,\n",
       "         -0.8652, -0.8289, -0.7779, -0.7134, -0.6367, -0.5488, -0.4498, -0.3392,\n",
       "         -0.2163, -0.0814,  0.0637], grad_fn=<AddBackward0>))"
      ]
     },
     "execution_count": 27,
     "metadata": {},
     "output_type": "execute_result"
    }
   ],
   "source": [
    "f_pred.confidence_region()"
   ]
  },
  {
   "cell_type": "code",
   "execution_count": null,
   "metadata": {},
   "outputs": [],
   "source": []
  }
 ],
 "metadata": {
  "kernelspec": {
   "display_name": "Python 3",
   "language": "python",
   "name": "python3"
  },
  "language_info": {
   "codemirror_mode": {
    "name": "ipython",
    "version": 3
   },
   "file_extension": ".py",
   "mimetype": "text/x-python",
   "name": "python",
   "nbconvert_exporter": "python",
   "pygments_lexer": "ipython3",
   "version": "3.6.3"
  }
 },
 "nbformat": 4,
 "nbformat_minor": 2
}
