{
 "cells": [
  {
   "cell_type": "code",
   "execution_count": 3,
   "metadata": {},
   "outputs": [],
   "source": [
    "import math\n",
    "import torch\n",
    "import gpytorch\n",
    "from matplotlib import pyplot as plt\n",
    "\n",
    "%matplotlib inline\n",
    "%load_ext autoreload\n",
    "%autoreload 2"
   ]
  },
  {
   "cell_type": "markdown",
   "metadata": {},
   "source": [
    "# GPyTorch Regression Tutorial\n",
    "\n",
    "### 目標\n",
    "以下の関係の回帰をガウス過程により求める。\n",
    "\n",
    "$$\n",
    "\\begin{align}\n",
    "    y &= \\sin (2\\pi x) + \\epsilon \\\\\n",
    "    \\epsilon &\\sim \\mathcal{N}(0, 0.04)\n",
    "\\end{align}\n",
    "$$\n",
    "\n",
    "上式を丁寧に書くと\n",
    "\n",
    "$$\n",
    "\\begin{align}\n",
    "    y &= f(x) + \\epsilon \\\\\n",
    "    f(x) &= \\sin (2\\pi x) \\\\\n",
    "     \\epsilon &\\sim \\mathcal{N}(0, {\\sigma}^2) \\\\\n",
    "    \\sigma &= 0.2\n",
    "\\end{align}\n",
    "$$\n",
    "\n",
    "である。これは、観測値$y$は、説明変数$x$によって$f(x)$の分布から生成される値を、分散の観測誤差${\\sigma}^2$のもとで観測したものといえる。\n",
    "\n",
    "#### 理解のために、とくに以下のページ・書籍が参考になる\n",
    "- https://recruit.cct-inc.co.jp/tecblog/deep-learning/gpytorch-01/\n",
    "- 『ガウス過程と機械学習』3.4.2 等。以下、「書籍」と略す\n"
   ]
  },
  {
   "cell_type": "code",
   "execution_count": 4,
   "metadata": {},
   "outputs": [],
   "source": [
    "\n",
    "# 上の条件に基づいてデータを生成すると\n",
    "# Set up training data\n",
    "\n",
    "# Training data is 100 points in [0,1] inclusive regularly spaced\n",
    "train_x = torch.linspace(0, 1, 100)\n",
    "# True function is sin(2*pi*x) with Gaussian noise\n",
    "train_y = torch.sin(train_x * (2 * math.pi)) + torch.randn(train_x.size()) * math.sqrt(0.04)"
   ]
  },
  {
   "cell_type": "markdown",
   "metadata": {},
   "source": [
    "## ガウス過程\n",
    "${\\boldsymbol f}$がガウス過程により生成されているとすると、書籍3.2.3のガウス過程の定義より、\n",
    "\n",
    "$$\n",
    "{\\boldsymbol f} \\sim \\mathcal{N}({\\boldsymbol \\mu}, {\\boldsymbol K})  \\equiv \\mathcal{N}({\\boldsymbol f} \\mid  {\\boldsymbol \\mu}, {\\boldsymbol K}) \n",
    "$$\n",
    "\n",
    "と表される。説明変数 ${\\boldsymbol X} = ({\\boldsymbol x}_1, {\\boldsymbol x}_2), ..., {\\boldsymbol x}_N$ が与えられたあとの観測値 ${\\boldsymbol y}$ の確率分布(尤度)を計算する。${\\boldsymbol y}$ は ${\\boldsymbol f}= (f({\\boldsymbol x}_1), f({\\boldsymbol x}_2), ..., f({\\boldsymbol x}_N))$ を通してのみ ${\\boldsymbol X}$ に依存するため、${\\boldsymbol f}$ に関して期待値をとると、\n",
    "\n",
    "$$\n",
    "\\begin{align}\n",
    "  p({\\boldsymbol y} \\mid {\\boldsymbol X}) &= \\int p({\\boldsymbol y}, {\\boldsymbol f} \\mid {\\boldsymbol X})d{\\boldsymbol f} \\\\\n",
    "  &= \\int p({\\boldsymbol y} \\mid {\\boldsymbol f}) p({\\boldsymbol f} \\mid {\\boldsymbol X})d{\\boldsymbol f} \\\\\n",
    "  &= \\int \\mathcal{N}({\\boldsymbol y} \\mid {\\boldsymbol f}, {\\sigma}^2 {\\boldsymbol I}) \\mathcal{N}({\\boldsymbol f} \\mid {\\boldsymbol \\mu}, {\\boldsymbol K})d{\\boldsymbol f} \\\\\n",
    "  &= \\mathcal{N}({\\boldsymbol \\mu}, {\\boldsymbol K} + {\\sigma}^2 {\\boldsymbol I})\n",
    "\\end{align}\n",
    "$$\n",
    "\n",
    "となる。したがって、$y$はカーネル関数を新しく\n",
    "$$\n",
    "k'({\\boldsymbol x}_n,{\\boldsymbol x}_{n'}) = k({\\boldsymbol x}_n,{\\boldsymbol x}_{n'}) + {\\sigma}^2 \\delta (n,n')\n",
    "$$\n",
    "とおいたガウス過程に従う。\n",
    "\n"
   ]
  },
  {
   "cell_type": "markdown",
   "metadata": {},
   "source": [
    "## GpyTorch との関係\n",
    "GpyTorch の **ExactGP** クラスの **likelihood** を入力するのは、${\\sigma}$を同時に学習するためである。\n",
    "例えば、カーネルをガウスカーネルとすると、上記のようにガウス誤差を含んだ場合のガウスカーネルは、\n",
    "\n",
    "$$\n",
    "k(x, x') = \\theta_1 \\exp\\left(-\\frac{(x-x)^2}{\\theta_2}\\right) + \\theta_3\\delta(x,x')\n",
    "$$\n",
    "\n",
    "であるので(ただし$\\theta_3=\\sigma^2$)、**ExactGP** を用いた学習では、${\\boldsymbol \\theta}=(\\theta_1, \\theta_2, \\theta_3)$を最適化していることになる。"
   ]
  },
  {
   "cell_type": "code",
   "execution_count": 5,
   "metadata": {},
   "outputs": [],
   "source": [
    "# We will use the simplest form of GP model, exact inference\n",
    "class ExactGPModel(gpytorch.models.ExactGP):\n",
    "    def __init__(self, train_x, train_y, likelihood):\n",
    "        super(ExactGPModel, self).__init__(train_x, train_y, likelihood)\n",
    "        self.mean_module = gpytorch.means.ConstantMean()\n",
    "        self.covar_module = gpytorch.kernels.ScaleKernel(gpytorch.kernels.RBFKernel())\n",
    "\n",
    "    def forward(self, x):\n",
    "        mean_x = self.mean_module(x)\n",
    "        covar_x = self.covar_module(x)\n",
    "        return gpytorch.distributions.MultivariateNormal(mean_x, covar_x)"
   ]
  },
  {
   "cell_type": "code",
   "execution_count": 6,
   "metadata": {},
   "outputs": [],
   "source": [
    "# initialize likelihood and model\n",
    "likelihood = gpytorch.likelihoods.GaussianLikelihood()\n",
    "model = ExactGPModel(train_x, train_y, likelihood)"
   ]
  },
  {
   "cell_type": "code",
   "execution_count": 7,
   "metadata": {},
   "outputs": [
    {
     "data": {
      "text/plain": [
       "<generator object Module.named_parameters at 0x7fbc84d1c678>"
      ]
     },
     "execution_count": 7,
     "metadata": {},
     "output_type": "execute_result"
    }
   ],
   "source": [
    "model.named_parameters()\n"
   ]
  },
  {
   "cell_type": "code",
   "execution_count": 8,
   "metadata": {},
   "outputs": [
    {
     "name": "stdout",
     "output_type": "stream",
     "text": [
      "Iter 1/50 - Loss: 0.947   lengthscale: 0.693   noise: 0.693\n",
      "Iter 2/50 - Loss: 0.916   lengthscale: 0.644   noise: 0.644\n",
      "Iter 3/50 - Loss: 0.883   lengthscale: 0.598   noise: 0.598\n",
      "Iter 4/50 - Loss: 0.846   lengthscale: 0.555   noise: 0.554\n",
      "Iter 5/50 - Loss: 0.805   lengthscale: 0.514   noise: 0.513\n",
      "Iter 6/50 - Loss: 0.759   lengthscale: 0.475   noise: 0.474\n",
      "Iter 7/50 - Loss: 0.710   lengthscale: 0.439   noise: 0.437\n",
      "Iter 8/50 - Loss: 0.660   lengthscale: 0.404   noise: 0.402\n",
      "Iter 9/50 - Loss: 0.612   lengthscale: 0.372   noise: 0.370\n",
      "Iter 10/50 - Loss: 0.569   lengthscale: 0.342   noise: 0.339\n",
      "Iter 11/50 - Loss: 0.530   lengthscale: 0.315   noise: 0.311\n",
      "Iter 12/50 - Loss: 0.495   lengthscale: 0.291   noise: 0.284\n",
      "Iter 13/50 - Loss: 0.462   lengthscale: 0.272   noise: 0.260\n",
      "Iter 14/50 - Loss: 0.431   lengthscale: 0.255   noise: 0.237\n",
      "Iter 15/50 - Loss: 0.401   lengthscale: 0.242   noise: 0.216\n",
      "Iter 16/50 - Loss: 0.372   lengthscale: 0.232   noise: 0.197\n",
      "Iter 17/50 - Loss: 0.343   lengthscale: 0.225   noise: 0.179\n",
      "Iter 18/50 - Loss: 0.315   lengthscale: 0.220   noise: 0.163\n",
      "Iter 19/50 - Loss: 0.288   lengthscale: 0.216   noise: 0.149\n",
      "Iter 20/50 - Loss: 0.262   lengthscale: 0.215   noise: 0.135\n",
      "Iter 21/50 - Loss: 0.237   lengthscale: 0.215   noise: 0.123\n",
      "Iter 22/50 - Loss: 0.214   lengthscale: 0.217   noise: 0.112\n",
      "Iter 23/50 - Loss: 0.192   lengthscale: 0.220   noise: 0.103\n",
      "Iter 24/50 - Loss: 0.173   lengthscale: 0.225   noise: 0.094\n",
      "Iter 25/50 - Loss: 0.156   lengthscale: 0.230   noise: 0.086\n",
      "Iter 26/50 - Loss: 0.141   lengthscale: 0.237   noise: 0.079\n",
      "Iter 27/50 - Loss: 0.129   lengthscale: 0.244   noise: 0.073\n",
      "Iter 28/50 - Loss: 0.120   lengthscale: 0.253   noise: 0.067\n",
      "Iter 29/50 - Loss: 0.114   lengthscale: 0.261   noise: 0.062\n",
      "Iter 30/50 - Loss: 0.111   lengthscale: 0.271   noise: 0.058\n",
      "Iter 31/50 - Loss: 0.110   lengthscale: 0.280   noise: 0.055\n",
      "Iter 32/50 - Loss: 0.112   lengthscale: 0.289   noise: 0.052\n",
      "Iter 33/50 - Loss: 0.116   lengthscale: 0.298   noise: 0.049\n",
      "Iter 34/50 - Loss: 0.121   lengthscale: 0.304   noise: 0.047\n",
      "Iter 35/50 - Loss: 0.126   lengthscale: 0.309   noise: 0.045\n",
      "Iter 36/50 - Loss: 0.130   lengthscale: 0.312   noise: 0.044\n",
      "Iter 37/50 - Loss: 0.133   lengthscale: 0.312   noise: 0.043\n",
      "Iter 38/50 - Loss: 0.134   lengthscale: 0.310   noise: 0.043\n",
      "Iter 39/50 - Loss: 0.134   lengthscale: 0.306   noise: 0.043\n",
      "Iter 40/50 - Loss: 0.132   lengthscale: 0.300   noise: 0.043\n",
      "Iter 41/50 - Loss: 0.130   lengthscale: 0.294   noise: 0.043\n",
      "Iter 42/50 - Loss: 0.127   lengthscale: 0.288   noise: 0.044\n",
      "Iter 43/50 - Loss: 0.124   lengthscale: 0.281   noise: 0.045\n",
      "Iter 44/50 - Loss: 0.121   lengthscale: 0.276   noise: 0.046\n",
      "Iter 45/50 - Loss: 0.119   lengthscale: 0.271   noise: 0.047\n",
      "Iter 46/50 - Loss: 0.117   lengthscale: 0.267   noise: 0.048\n",
      "Iter 47/50 - Loss: 0.115   lengthscale: 0.263   noise: 0.050\n",
      "Iter 48/50 - Loss: 0.113   lengthscale: 0.261   noise: 0.051\n",
      "Iter 49/50 - Loss: 0.112   lengthscale: 0.260   noise: 0.053\n",
      "Iter 50/50 - Loss: 0.111   lengthscale: 0.259   noise: 0.054\n"
     ]
    }
   ],
   "source": [
    "# this is for running the notebook in our testing framework\n",
    "import os\n",
    "smoke_test = ('CI' in os.environ)\n",
    "training_iter = 2 if smoke_test else 50\n",
    "\n",
    "\n",
    "# Find optimal model hyperparameters\n",
    "model.train()\n",
    "likelihood.train()\n",
    "\n",
    "# Use the adam optimizer\n",
    "optimizer = torch.optim.Adam(model.parameters(), lr=0.1)  # Includes GaussianLikelihood parameters\n",
    "\n",
    "# \"Loss\" for GPs - the marginal log likelihood\n",
    "mll = gpytorch.mlls.ExactMarginalLogLikelihood(likelihood, model)\n",
    "\n",
    "for i in range(training_iter):\n",
    "    # Zero gradients from previous iteration\n",
    "    optimizer.zero_grad()\n",
    "    # Output from model\n",
    "    output = model(train_x)\n",
    "    # Calc loss and backprop gradients\n",
    "    loss = -mll(output, train_y)\n",
    "    loss.backward()\n",
    "    print('Iter %d/%d - Loss: %.3f   lengthscale: %.3f   noise: %.3f' % (\n",
    "        i + 1, training_iter, loss.item(),\n",
    "        model.covar_module.base_kernel.lengthscale.item(),\n",
    "        model.likelihood.noise.item()\n",
    "    ))\n",
    "    optimizer.step()"
   ]
  },
  {
   "cell_type": "code",
   "execution_count": 9,
   "metadata": {},
   "outputs": [],
   "source": [
    "# Get into evaluation (predictive posterior) mode\n",
    "model.eval()\n",
    "likelihood.eval()\n",
    "\n",
    "# Test points are regularly spaced along [0,1]\n",
    "# Make predictions by feeding model through likelihood\n",
    "with torch.no_grad(), gpytorch.settings.fast_pred_var():\n",
    "    test_x = torch.linspace(0, 1, 51)\n",
    "    observed_pred = likelihood(model(test_x))"
   ]
  },
  {
   "cell_type": "markdown",
   "metadata": {},
   "source": [
    "## GpyTorch の Model の出力について\n",
    "今回定義した **ExactGPModel** から得られる出力を見ると、\n",
    "\n",
    "1. 　model(test_x) による出力\n",
    "2. 　1. の出力に likelihood をかける\n",
    "\n",
    "の2ステップになっている。1. の出力は、$ \\mathcal{N}({\\boldsymbol \\mu}, {\\boldsymbol K}) $\n",
    "の分布による出力に対応し、これにガウス分布で定義される誤差関数の分を掛けることで、観測値の確率分布 $ \\mathcal{N}({\\boldsymbol \\mu}, {\\boldsymbol K} + {\\sigma}^2 {\\boldsymbol I}) $ からの出力を得ていることになる。\n"
   ]
  },
  {
   "cell_type": "code",
   "execution_count": 12,
   "metadata": {},
   "outputs": [
    {
     "data": {
      "image/png": "[encoded data removed]",
      "text/plain": [
       "<matplotlib.figure.Figure at 0x7fbc888477b8>"
      ]
     },
     "metadata": {},
     "output_type": "display_data"
    }
   ],
   "source": [
    "with torch.no_grad():\n",
    "    # Initialize plot\n",
    "    f, ax = plt.subplots(1, 1, figsize=(10, 8))\n",
    "\n",
    "    # Get upper and lower confidence bounds\n",
    "    lower, upper = observed_pred.confidence_region()\n",
    "#     lower, upper = f_pred.confidence_region()\n",
    "    # Plot training data as black stars\n",
    "    ax.plot(train_x.numpy(), train_y.numpy(), 'k*')\n",
    "    # Plot predictive means as blue line\n",
    "    ax.plot(test_x.numpy(), observed_pred.mean.numpy(), 'b')\n",
    "    # Shade between the lower and upper confidence bounds\n",
    "    ax.fill_between(test_x.numpy(), lower.numpy(), upper.numpy(), alpha=0.5)\n",
    "    ax.set_ylim([-3, 3])\n",
    "    ax.legend(['Observed Data', 'Mean', 'Confidence'])"
   ]
  },
  {
   "cell_type": "code",
   "execution_count": 22,
   "metadata": {},
   "outputs": [
    {
     "data": {
      "text/plain": [
       "tensor([ 0.0654,  0.1846,  0.3013,  0.4138,  0.5200,  0.6185,  0.7075,  0.7859,\n",
       "         0.8526,  0.9067,  0.9477,  0.9750,  0.9886,  0.9885,  0.9749,  0.9481,\n",
       "         0.9085,  0.8568,  0.7937,  0.7199,  0.6363,  0.5439,  0.4437,  0.3370,\n",
       "         0.2251,  0.1093, -0.0088, -0.1275, -0.2452, -0.3600, -0.4701, -0.5735,\n",
       "        -0.6685, -0.7533, -0.8263, -0.8860, -0.9312, -0.9610, -0.9747, -0.9720,\n",
       "        -0.9529, -0.9179, -0.8679, -0.8038, -0.7271, -0.6396, -0.5431, -0.4398,\n",
       "        -0.3317, -0.2213, -0.1106])"
      ]
     },
     "execution_count": 22,
     "metadata": {},
     "output_type": "execute_result"
    }
   ],
   "source": [
    "observed_pred.mean"
   ]
  },
  {
   "cell_type": "code",
   "execution_count": 30,
   "metadata": {},
   "outputs": [
    {
     "data": {
      "text/plain": [
       "tensor([ 0.0654,  0.1846,  0.3013,  0.4138,  0.5200,  0.6185,  0.7075,  0.7859,\n",
       "         0.8526,  0.9067,  0.9477,  0.9750,  0.9886,  0.9885,  0.9749,  0.9481,\n",
       "         0.9085,  0.8568,  0.7937,  0.7199,  0.6363,  0.5439,  0.4437,  0.3370,\n",
       "         0.2251,  0.1093, -0.0088, -0.1275, -0.2452, -0.3600, -0.4701, -0.5735,\n",
       "        -0.6685, -0.7533, -0.8263, -0.8860, -0.9312, -0.9610, -0.9747, -0.9720,\n",
       "        -0.9529, -0.9179, -0.8679, -0.8038, -0.7271, -0.6396, -0.5431, -0.4398,\n",
       "        -0.3317, -0.2213, -0.1106], grad_fn=<ViewBackward>)"
      ]
     },
     "execution_count": 30,
     "metadata": {},
     "output_type": "execute_result"
    }
   ],
   "source": [
    "f_pred = model(test_x)\n",
    "f_pred.mean"
   ]
  },
  {
   "cell_type": "code",
   "execution_count": 28,
   "metadata": {},
   "outputs": [
    {
     "data": {
      "text/plain": [
       "(tensor([-0.1088,  0.0447,  0.1859,  0.3133,  0.4268,  0.5277,  0.6171,  0.6956,\n",
       "          0.7626,  0.8177,  0.8599,  0.8886,  0.9034,  0.9042,  0.8910,  0.8644,\n",
       "          0.8248,  0.7731,  0.7099,  0.6362,  0.5527,  0.4605,  0.3606,  0.2541,\n",
       "          0.1423,  0.0266, -0.0916, -0.2104, -0.3283, -0.4433, -0.5536, -0.6572,\n",
       "         -0.7523, -0.8371, -0.9100, -0.9698, -1.0152, -1.0454, -1.0599, -1.0583,\n",
       "         -1.0406, -1.0070, -0.9578, -0.8942, -0.8175, -0.7304, -0.6364, -0.5403,\n",
       "         -0.4471, -0.3611, -0.2848], grad_fn=<SubBackward0>),\n",
       " tensor([ 0.2397,  0.3244,  0.4167,  0.5143,  0.6133,  0.7093,  0.7980,  0.8763,\n",
       "          0.9426,  0.9958,  1.0354,  1.0614,  1.0739,  1.0729,  1.0588,  1.0318,\n",
       "          0.9923,  0.9406,  0.8775,  0.8036,  0.7198,  0.6272,  0.5268,  0.4199,\n",
       "          0.3078,  0.1920,  0.0740, -0.0446, -0.1621, -0.2767, -0.3865, -0.4898,\n",
       "         -0.5848, -0.6696, -0.7426, -0.8023, -0.8473, -0.8766, -0.8895, -0.8856,\n",
       "         -0.8652, -0.8289, -0.7779, -0.7134, -0.6367, -0.5488, -0.4498, -0.3392,\n",
       "         -0.2163, -0.0814,  0.0637], grad_fn=<AddBackward0>))"
      ]
     },
     "execution_count": 28,
     "metadata": {},
     "output_type": "execute_result"
    }
   ],
   "source": [
    "f_pred.confidence_region()"
   ]
  },
  {
   "cell_type": "code",
   "execution_count": 29,
   "metadata": {},
   "outputs": [
    {
     "data": {
      "text/plain": [
       "(tensor([-0.3577, -0.2256, -0.1011,  0.0153,  0.1233,  0.2223,  0.3115,  0.3899,\n",
       "          0.4567,  0.5110,  0.5522,  0.5799,  0.5938,  0.5938,  0.5803,  0.5535,\n",
       "          0.5140,  0.4623,  0.3991,  0.3253,  0.2417,  0.1494,  0.0493, -0.0574,\n",
       "         -0.1693, -0.2851, -0.4031, -0.5219, -0.6396, -0.7545, -0.8646, -0.9681,\n",
       "         -1.0631, -1.1479, -1.2209, -1.2806, -1.3259, -1.3557, -1.3696, -1.3671,\n",
       "         -1.3483, -1.3137, -1.2638, -1.1998, -1.1232, -1.0357, -0.9398, -0.8382,\n",
       "         -0.7342, -0.6314, -0.5337]),\n",
       " tensor([ 0.4886,  0.5947,  0.7038,  0.8122,  0.9168,  1.0146,  1.1036,  1.1820,\n",
       "          1.2486,  1.3024,  1.3431,  1.3702,  1.3835,  1.3833,  1.3695,  1.3427,\n",
       "          1.3031,  1.2514,  1.1883,  1.1144,  1.0308,  0.9383,  0.8381,  0.7314,\n",
       "          0.6194,  0.5036,  0.3856,  0.2669,  0.1492,  0.0345, -0.0755, -0.1790,\n",
       "         -0.2740, -0.3588, -0.4318, -0.4915, -0.5366, -0.5663, -0.5798, -0.5768,\n",
       "         -0.5575, -0.5222, -0.4719, -0.4077, -0.3311, -0.2435, -0.1464, -0.0413,\n",
       "          0.0707,  0.1889,  0.3126]))"
      ]
     },
     "execution_count": 29,
     "metadata": {},
     "output_type": "execute_result"
    }
   ],
   "source": [
    "observed_pred.confidence_region()"
   ]
  },
  {
   "cell_type": "code",
   "execution_count": 39,
   "metadata": {},
   "outputs": [
    {
     "data": {
      "text/plain": [
       "tensor([[ 7.5943e-03,  5.9472e-03,  4.4536e-03,  ..., -4.2173e-05,\n",
       "         -8.0265e-05, -1.1488e-04],\n",
       "        [ 5.9470e-03,  4.8884e-03,  3.8932e-03,  ..., -1.4151e-05,\n",
       "         -4.6416e-05, -8.0270e-05],\n",
       "        [ 4.4534e-03,  3.8930e-03,  3.3288e-03,  ...,  8.7894e-06,\n",
       "         -1.4149e-05, -4.2179e-05],\n",
       "        ...,\n",
       "        [-4.2174e-05, -1.4153e-05,  8.7882e-06,  ...,  3.3287e-03,\n",
       "          3.8931e-03,  4.4535e-03],\n",
       "        [-8.0266e-05, -4.6416e-05, -1.4152e-05,  ...,  3.8931e-03,\n",
       "          4.8879e-03,  5.9472e-03],\n",
       "        [-1.1487e-04, -8.0265e-05, -4.2172e-05,  ...,  4.4537e-03,\n",
       "          5.9472e-03,  7.5944e-03]], grad_fn=<AddmmBackward>)"
      ]
     },
     "execution_count": 39,
     "metadata": {},
     "output_type": "execute_result"
    }
   ],
   "source": [
    "f_pred\n",
    "f_pred.covariance_matrix"
   ]
  },
  {
   "cell_type": "code",
   "execution_count": 38,
   "metadata": {},
   "outputs": [
    {
     "data": {
      "text/plain": [
       "MultivariateNormal(loc: torch.Size([51]), covariance_matrix: torch.Size([51, 51]), precision_matrix: torch.Size([51, 51]), scale_tril: torch.Size([51, 51]))"
      ]
     },
     "execution_count": 38,
     "metadata": {},
     "output_type": "execute_result"
    }
   ],
   "source": [
    "observed_pred"
   ]
  },
  {
   "cell_type": "code",
   "execution_count": 43,
   "metadata": {},
   "outputs": [
    {
     "name": "stdout",
     "output_type": "stream",
     "text": [
      "('noise_covar.raw_noise', Parameter containing:\n",
      "tensor([0.], requires_grad=True))\n"
     ]
    }
   ],
   "source": [
    "likelihood"
   ]
  },
  {
   "cell_type": "code",
   "execution_count": null,
   "metadata": {},
   "outputs": [],
   "source": []
  }
 ],
 "metadata": {
  "kernelspec": {
   "display_name": "Python 3",
   "language": "python",
   "name": "python3"
  },
  "language_info": {
   "codemirror_mode": {
    "name": "ipython",
    "version": 3
   },
   "file_extension": ".py",
   "mimetype": "text/x-python",
   "name": "python",
   "nbconvert_exporter": "python",
   "pygments_lexer": "ipython3",
   "version": "3.6.3"
  }
 },
 "nbformat": 4,
 "nbformat_minor": 2
}
